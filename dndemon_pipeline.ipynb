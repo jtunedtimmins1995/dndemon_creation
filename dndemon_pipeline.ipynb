{
 "cells": [
  {
   "cell_type": "code",
   "execution_count": 1,
   "id": "51ad5460",
   "metadata": {},
   "outputs": [
    {
     "name": "stderr",
     "output_type": "stream",
     "text": [
      "d:\\dndemon_creation\\venv\\Lib\\site-packages\\tqdm\\auto.py:21: TqdmWarning: IProgress not found. Please update jupyter and ipywidgets. See https://ipywidgets.readthedocs.io/en/stable/user_install.html\n",
      "  from .autonotebook import tqdm as notebook_tqdm\n"
     ]
    }
   ],
   "source": [
    "from diffusers import StableDiffusionXLPipeline, ControlNetModel,StableDiffusionXLImg2ImgPipeline\n",
    "import torch\n",
    "from PIL import Image\n",
    "import os, json, time, gc, shutil\n"
   ]
  },
  {
   "cell_type": "code",
   "execution_count": 2,
   "id": "b9d22944",
   "metadata": {},
   "outputs": [
    {
     "name": "stdout",
     "output_type": "stream",
     "text": [
      "CUDA available: True\n",
      "Device name: NVIDIA GeForce RTX 4070\n"
     ]
    }
   ],
   "source": [
    "\n",
    "print(\"CUDA available:\", torch.cuda.is_available())\n",
    "print(\"Device name:\", torch.cuda.get_device_name(0) if torch.cuda.is_available() else \"CPU\")"
   ]
  },
  {
   "cell_type": "code",
   "execution_count": 3,
   "id": "47a668ec",
   "metadata": {},
   "outputs": [
    {
     "name": "stdout",
     "output_type": "stream",
     "text": [
      "<class 'list'>\n",
      "100\n"
     ]
    }
   ],
   "source": [
    "# Load your dataset (replace with your path)\n",
    "with open(\"pokemon_dataset_100.json\", \"r\") as f:\n",
    "    pokemon_pairs = json.load(f)[:]\n",
    "\n",
    "print(type(pokemon_pairs))   # <class 'list'>\n",
    "print(len(pokemon_pairs))    # 100 entries"
   ]
  },
  {
   "cell_type": "code",
   "execution_count": 4,
   "id": "46addf3a",
   "metadata": {},
   "outputs": [],
   "source": [
    "pokemon_pairs = [\n",
    "    {\n",
    "        \"base_name\": \"Embermane\",\n",
    "        \"evolved_name\": \"Pyrograth\",\n",
    "        \"base\": {\n",
    "            \"prompt\": \"small elemental lion with embers flowing through its mane, smoldering eyes, faint heat haze, anime cel-shaded, magical aura, full body, arcane fantasy style, clean lineart\",\n",
    "            \"negative\": \"text, watermark, signature, cartoonish, extra limbs, bad anatomy, humanoid, armor\"\n",
    "        },\n",
    "        \"evolved\": {\n",
    "            \"prompt\": (\n",
    "                \"Evolved volcanic lion deity version of the creature in the image: massive bipedal fire guardian with magma armor and flowing ember mane, \"\n",
    "                \"runic symbols glowing across its body, retains orange-gold palette, anime fantasy RPG art, cel-shaded, dramatic lighting, \"\n",
    "                \"high detail, coherent humanoid anatomy\"\n",
    "            ),\n",
    "            \"negative\": (\n",
    "                \"small lion, quadruped animal, horse-like, flat lighting, low quality, overexposed, text, watermark, malformed limbs\"\n",
    "            ),\n",
    "            \"strength\": 0.85,\n",
    "            \"guidance_scale\": 7.4\n",
    "        }\n",
    "    },\n",
    "    {\n",
    "        \"base_name\": \"Thornveil\",\n",
    "        \"evolved_name\": \"Sylvarch\",\n",
    "        \"base\": {\n",
    "            \"prompt\": \"mystical forest reptile with vine scales and moss-covered body, faint glowing runes along its tail, anime cel-shaded, natural lighting, full body, fantasy forest tone\",\n",
    "            \"negative\": \"text, watermark, signature, mechanical, humanoid, metallic, distorted anatomy\"\n",
    "        },\n",
    "        \"evolved\": {\n",
    "            \"prompt\": (\n",
    "                \"Evolved druid guardian version of the creature in the image: tall humanoid dragon wrapped in living vines and bark armor, \"\n",
    "                \"leafy horns and glowing emerald eyes, runic patterns pulsing with life energy, retains green-brown palette, \"\n",
    "                \"anime RPG art, cel-shaded, detailed foliage textures, coherent anatomy\"\n",
    "            ),\n",
    "            \"negative\": (\n",
    "                \"tiny reptile, small lizard, bug, robotic, metal body, low quality, flat lighting, malformed face, text, watermark\"\n",
    "            ),\n",
    "            \"strength\": 0.75,\n",
    "            \"guidance_scale\": 7.2\n",
    "        }\n",
    "    },\n",
    "    {\n",
    "        \"base_name\": \"Mireling\",\n",
    "        \"evolved_name\": \"Abythral\",\n",
    "        \"base\": {\n",
    "            \"prompt\": \"shadowy amphibian creature emerging from mist, deep indigo skin with faint bioluminescent markings, anime fantasy style, full body, glowing eyes, mysterious tone\",\n",
    "            \"negative\": \"text, watermark, signature, humanoid, armor, cartoon, extra limbs, bad anatomy\"\n",
    "        },\n",
    "        \"evolved\": {\n",
    "            \"prompt\": (\n",
    "                \"Evolved abyssal warden version of the creature in the image: towering aquatic specter with flowing dark robes of shadow-water, \"\n",
    "                \"four glowing eyes, ornate trident, retains indigo and teal palette, anime fantasy art, ethereal lighting, high detail, \"\n",
    "                \"cel-shaded, powerful composition\"\n",
    "            ),\n",
    "            \"negative\": (\n",
    "                \"frog, tadpole, small creature, cute, simple design, low detail, flat color, distorted limbs, text, watermark\"\n",
    "            ),\n",
    "            \"strength\": 0.8,\n",
    "            \"guidance_scale\": 7.3\n",
    "        }\n",
    "    },\n",
    "    {\n",
    "        \"base_name\": \"Voltusk\",\n",
    "        \"evolved_name\": \"Stormarok\",\n",
    "        \"base\": {\n",
    "            \"prompt\": \"electric boar spirit wreathed in stormlight, azure sparks crackling along tusks, glowing patterns in fur, anime cel-shaded, full body, dramatic fantasy tone\",\n",
    "            \"negative\": \"text, watermark, signature, humanoid, mechanical, messy lighting, bad anatomy\"\n",
    "        },\n",
    "        \"evolved\": {\n",
    "            \"prompt\": (\n",
    "                \"Evolved thunder colossus version of the creature in the image: massive armored beast of lightning with glowing tusks and storm halo, \"\n",
    "                \"electric energy coursing through veins, retains blue-yellow palette, anime RPG art, cel-shaded, dynamic lighting, detailed rendering\"\n",
    "            ),\n",
    "            \"negative\": (\n",
    "                \"small piglet, quadruped fox, metal plating, humanoid form, low quality, flat pose, text, watermark, malformed proportions\"\n",
    "            ),\n",
    "            \"strength\": 0.7,\n",
    "            \"guidance_scale\": 7.5\n",
    "        }\n",
    "    },\n",
    "    {\n",
    "        \"base_name\": \"Frostbane\",\n",
    "        \"evolved_name\": \"Cryovain\",\n",
    "        \"base\": {\n",
    "            \"prompt\": \"ice wolf familiar with crystalline fur and misty breath, piercing cyan eyes, arcane energy shimmer, anime cel-shaded, high contrast lighting, full body\",\n",
    "            \"negative\": \"text, watermark, signature, humanoid, armor, deformed, fire effects, low quality\"\n",
    "        },\n",
    "        \"evolved\": {\n",
    "            \"prompt\": (\n",
    "                \"Evolved frost deity version of the creature in the image: regal humanoid wolf spirit cloaked in flowing ice robes, \"\n",
    "                \"antler-like ice horns, glowing cyan veins, retains blue-white palette, anime fantasy art, cel-shaded, elegant yet fierce stance, \"\n",
    "                \"magical frost aura, intricate details\"\n",
    "            ),\n",
    "            \"negative\": (\n",
    "                \"quadruped animal, bulky beast, molten textures, messy shading, text, watermark, distorted proportions\"\n",
    "            ),\n",
    "            \"strength\": 0.8,\n",
    "            \"guidance_scale\": 7.5\n",
    "        }\n",
    "    },\n",
    "    {\n",
    "        \"base_name\": \"Cindrel\",\n",
    "        \"evolved_name\": \"Ashdrake\",\n",
    "        \"base\": {\n",
    "            \"prompt\": \"small draconic ember spirit with glowing scales and smoldering wings, faint ash falling around, anime cel-shaded, fantasy fire glow, full body\",\n",
    "            \"negative\": \"text, watermark, signature, humanoid, flat lighting, bad anatomy, low quality\"\n",
    "        },\n",
    "        \"evolved\": {\n",
    "            \"prompt\": (\n",
    "                \"Evolved dragon champion version of the creature in the image: powerful humanoid dragon warrior with blazing wing-blades, \"\n",
    "                \"crimson magma armor, horns of obsidian, retains fiery red-gold palette, anime RPG art, cel-shaded, detailed scales, \"\n",
    "                \"coherent anatomy, heroic pose\"\n",
    "            ),\n",
    "            \"negative\": (\n",
    "                \"tiny dragon, quadruped, wyvern shape, cartoon, simple shading, low detail, text, watermark, distorted anatomy\"\n",
    "            ),\n",
    "            \"strength\": 0.8,\n",
    "            \"guidance_scale\": 7.6\n",
    "        }\n",
    "    },\n",
    "    {\n",
    "        \"base_name\": \"Lumora\",\n",
    "        \"evolved_name\": \"Seraphis\",\n",
    "        \"base\": {\n",
    "            \"prompt\": \"floating spirit of light with veil-like wings and radiant runes on body, gentle aura, anime cel-shaded, magical fantasy glow, full body\",\n",
    "            \"negative\": \"text, watermark, signature, humanoid face, extra limbs, low quality, mechanical\"\n",
    "        },\n",
    "        \"evolved\": {\n",
    "            \"prompt\": (\n",
    "                \"Evolved divine guardian version of the creature in the image: majestic angelic humanoid formed of pure light energy, \"\n",
    "                \"runic armor inscribed with glyphs, radiant wings spreading cosmic glow, retains white-gold palette, \"\n",
    "                \"anime celestial art, high detail, coherent anatomy, awe-inspiring stance\"\n",
    "            ),\n",
    "            \"negative\": (\n",
    "                \"tiny fairy, opaque body, flat shading, robotic, distorted proportions, text, watermark, lowres\"\n",
    "            ),\n",
    "            \"strength\": 0.9,\n",
    "            \"guidance_scale\": 7.7\n",
    "        }\n",
    "    },\n",
    "    {\n",
    "        \"base_name\": \"Obsidim\",\n",
    "        \"evolved_name\": \"Gravemorn\",\n",
    "        \"base\": {\n",
    "            \"prompt\": \"small shadow elemental creature made of black glass shards, glowing cracks and violet core, dark fantasy anime art, cel-shaded, ominous glow, full body\",\n",
    "            \"negative\": \"text, watermark, signature, cute, humanoid, metallic, distorted anatomy, cartoonish\"\n",
    "        },\n",
    "        \"evolved\": {\n",
    "            \"prompt\": (\n",
    "                \"Evolved wraith-lord version of the creature in the image: towering humanoid figure cloaked in broken obsidian armor, \"\n",
    "                \"purple fire burning beneath, cracked crystal sword, retains black-violet palette, anime dark fantasy art, \"\n",
    "                \"cel-shaded, dramatic lighting, high detail\"\n",
    "            ),\n",
    "            \"negative\": (\n",
    "                \"small creature, ghost blob, flat silhouette, low quality, blurry details, text, watermark\"\n",
    "            ),\n",
    "            \"strength\": 0.85,\n",
    "            \"guidance_scale\": 7.5\n",
    "        }\n",
    "    },\n",
    "    {\n",
    "        \"base_name\": \"Runeling\",\n",
    "        \"evolved_name\": \"Arcanor\",\n",
    "        \"base\": {\n",
    "            \"prompt\": \"tiny golem inscribed with glowing runes, levitating stones forming its limbs, arcane core pulsing with light, anime cel-shaded, magical tone, full body\",\n",
    "            \"negative\": \"text, watermark, signature, humanoid, animal, cartoon, mechanical\"\n",
    "        },\n",
    "        \"evolved\": {\n",
    "            \"prompt\": (\n",
    "                \"Evolved grand construct version of the creature in the image: colossal humanoid golem covered in layered runic armor, \"\n",
    "                \"floating sigils orbiting its chest, runes glowing in shifting colors, retains stone-gray and cyan palette, \"\n",
    "                \"anime arcane fantasy art, cel-shaded, intricate magic patterns, high detail\"\n",
    "            ),\n",
    "            \"negative\": (\n",
    "                \"small golem, blob, melted texture, flat light, simple design, text, watermark, malformed proportions\"\n",
    "            ),\n",
    "            \"strength\": 0.75,\n",
    "            \"guidance_scale\": 7.3\n",
    "        }\n",
    "    },\n",
    "    {\n",
    "        \"base_name\": \"Tempyr\",\n",
    "        \"evolved_name\": \"Chronavon\",\n",
    "        \"base\": {\n",
    "            \"prompt\": \"mystical owl creature with floating clockwork feathers, glowing eyes that shift color, anime fantasy art, cel-shaded, elegant design, full body, magical atmosphere\",\n",
    "            \"negative\": \"text, watermark, signature, humanoid, messy lineart, bad anatomy\"\n",
    "        },\n",
    "        \"evolved\": {\n",
    "            \"prompt\": (\n",
    "                \"Evolved timekeeper form of the creature in the image: divine humanoid owl sage with flowing time-sigil robes, \"\n",
    "                \"ethereal feathers of gold and azure, clockwork halo of spinning runes, retains original palette, \"\n",
    "                \"anime RPG fantasy art, cel-shaded, coherent anatomy, majestic pose, glowing magical symbols\"\n",
    "            ),\n",
    "            \"negative\": (\n",
    "                \"tiny bird, animal owl, simple textures, flat colors, distorted wings, low quality, text, watermark\"\n",
    "            ),\n",
    "            \"strength\": 0.8,\n",
    "            \"guidance_scale\": 7.6\n",
    "        }\n",
    "    }\n",
    "]\n"
   ]
  },
  {
   "cell_type": "code",
   "execution_count": 5,
   "id": "661d8611",
   "metadata": {},
   "outputs": [],
   "source": [
    "device = \"cuda\"\n",
    "dtype = torch.float16"
   ]
  },
  {
   "cell_type": "code",
   "execution_count": 16,
   "id": "2285c267",
   "metadata": {},
   "outputs": [
    {
     "name": "stderr",
     "output_type": "stream",
     "text": [
      "Loading pipeline components...: 100%|██████████| 7/7 [00:04<00:00,  1.69it/s]\n"
     ]
    }
   ],
   "source": [
    "pipe = StableDiffusionXLPipeline.from_pretrained(\n",
    "    \"stabilityai/stable-diffusion-xl-base-1.0\",\n",
    "    torch_dtype=dtype,\n",
    "    use_safetensors=True\n",
    ").to(device)"
   ]
  },
  {
   "cell_type": "code",
   "execution_count": 17,
   "id": "03df4706",
   "metadata": {},
   "outputs": [],
   "source": [
    "# Prevent black outputs on some setups:\n",
    "pipe.enable_attention_slicing()\n",
    "pipe.enable_vae_tiling()"
   ]
  },
  {
   "cell_type": "code",
   "execution_count": 11,
   "id": "f0d2be70",
   "metadata": {},
   "outputs": [],
   "source": [
    "output_dir = \"pokemon_out\" "
   ]
  },
  {
   "cell_type": "code",
   "execution_count": null,
   "id": "a357637d",
   "metadata": {},
   "outputs": [
    {
     "name": "stdout",
     "output_type": "stream",
     "text": [
      "[WinError 3] The system cannot find the path specified: 'pokemon_out'\n"
     ]
    }
   ],
   "source": [
    " # ensure defined\n",
    "try:\n",
    "    shutil.rmtree(output_dir)\n",
    "except Exception as e:\n",
    "    print(e)\n",
    "    pass\n",
    "os.makedirs(output_dir, exist_ok=True)"
   ]
  },
  {
   "cell_type": "code",
   "execution_count": 6,
   "id": "ac0d5858",
   "metadata": {},
   "outputs": [],
   "source": [
    "SINGLE_SUBJECT_ADDON = (\n",
    "    \"SINGLE SUBJECT, SOLO, ONE CREATURE ONLY, CENTERED, FULL BODY, \"\n",
    "    \"plain neutral background, subject isolated, studio backdrop\"\n",
    ")\n",
    "\n",
    "SINGLE_SUBJECT_NEG = (\n",
    "    \"multiple creatures, duplicate creature, twins, second creature, extra subject, group, crowd, swarm, \"\n",
    "    \"background characters, reflection duplicates, photobomb, collage, split screen, multi-panel\"\n",
    ")\n",
    "\n",
    "def make_single_subject(prompt: str, negative: str = \"\"):\n",
    "    p = f\"{prompt}, {SINGLE_SUBJECT_ADDON}\"\n",
    "    n = (negative + \", \" if negative else \"\") + SINGLE_SUBJECT_NEG\n",
    "    return p, n"
   ]
  },
  {
   "cell_type": "code",
   "execution_count": 7,
   "id": "d92ceb28",
   "metadata": {},
   "outputs": [],
   "source": [
    "gc.collect()\n",
    "if torch.cuda.is_available():\n",
    "    torch.cuda.empty_cache()   # free unattached cached blocks\n",
    "    torch.cuda.synchronize()   # finalize GPU work before timing"
   ]
  },
  {
   "cell_type": "code",
   "execution_count": 20,
   "id": "9b33555b",
   "metadata": {},
   "outputs": [
    {
     "name": "stdout",
     "output_type": "stream",
     "text": [
      "MAKING Embermane\n"
     ]
    },
    {
     "name": "stderr",
     "output_type": "stream",
     "text": [
      "100%|██████████| 26/26 [00:08<00:00,  3.06it/s]\n"
     ]
    },
    {
     "name": "stdout",
     "output_type": "stream",
     "text": [
      "Embermane took 16.75s\n",
      "MAKING Thornveil\n"
     ]
    },
    {
     "name": "stderr",
     "output_type": "stream",
     "text": [
      "100%|██████████| 26/26 [00:13<00:00,  1.94it/s]\n"
     ]
    },
    {
     "name": "stdout",
     "output_type": "stream",
     "text": [
      "Thornveil took 48.89s\n",
      "MAKING Mireling\n"
     ]
    },
    {
     "name": "stderr",
     "output_type": "stream",
     "text": [
      "100%|██████████| 26/26 [00:18<00:00,  1.42it/s]\n"
     ]
    },
    {
     "name": "stdout",
     "output_type": "stream",
     "text": [
      "Mireling took 51.93s\n",
      "MAKING Voltusk\n"
     ]
    },
    {
     "name": "stderr",
     "output_type": "stream",
     "text": [
      "100%|██████████| 26/26 [00:12<00:00,  2.09it/s]\n"
     ]
    },
    {
     "name": "stdout",
     "output_type": "stream",
     "text": [
      "Voltusk took 46.20s\n",
      "MAKING Frostbane\n"
     ]
    },
    {
     "name": "stderr",
     "output_type": "stream",
     "text": [
      "100%|██████████| 26/26 [00:12<00:00,  2.14it/s]\n"
     ]
    },
    {
     "name": "stdout",
     "output_type": "stream",
     "text": [
      "Frostbane took 16.71s\n",
      "MAKING Cindrel\n"
     ]
    },
    {
     "name": "stderr",
     "output_type": "stream",
     "text": [
      "100%|██████████| 26/26 [00:14<00:00,  1.85it/s]\n"
     ]
    },
    {
     "name": "stdout",
     "output_type": "stream",
     "text": [
      "Cindrel took 37.52s\n",
      "MAKING Lumora\n"
     ]
    },
    {
     "name": "stderr",
     "output_type": "stream",
     "text": [
      "100%|██████████| 26/26 [00:40<00:00,  1.55s/it]\n"
     ]
    },
    {
     "name": "stdout",
     "output_type": "stream",
     "text": [
      "Lumora took 66.23s\n",
      "MAKING Obsidim\n"
     ]
    },
    {
     "name": "stderr",
     "output_type": "stream",
     "text": [
      "100%|██████████| 26/26 [00:08<00:00,  2.97it/s]\n"
     ]
    },
    {
     "name": "stdout",
     "output_type": "stream",
     "text": [
      "Obsidim took 36.67s\n",
      "MAKING Runeling\n"
     ]
    },
    {
     "name": "stderr",
     "output_type": "stream",
     "text": [
      "100%|██████████| 26/26 [01:40<00:00,  3.87s/it]\n"
     ]
    },
    {
     "name": "stdout",
     "output_type": "stream",
     "text": [
      "Runeling took 106.32s\n",
      "MAKING Tempyr\n"
     ]
    },
    {
     "name": "stderr",
     "output_type": "stream",
     "text": [
      "100%|██████████| 26/26 [01:46<00:00,  4.08s/it]\n"
     ]
    },
    {
     "name": "stdout",
     "output_type": "stream",
     "text": [
      "Tempyr took 145.26s\n",
      "Total: 572.6s (avg 5.73s/img)\n"
     ]
    }
   ],
   "source": [
    "start_global = time.perf_counter()\n",
    "for i,pair in enumerate(pokemon_pairs):\n",
    "    print(f\"MAKING {i} / {len(pokemon_pairs)}\")\n",
    "    base_name = pair[\"base_name\"]\n",
    "    \n",
    "    base_p, base_n = make_single_subject(pair[\"base\"][\"prompt\"], pair[\"base\"][\"negative\"])\n",
    "    print(f\"MAKING {base_name}\")\n",
    "\n",
    "    out_folder = os.path.join(output_dir, base_name)\n",
    "    os.makedirs(out_folder, exist_ok=True)\n",
    "\n",
    "    base_info = pair[\"base\"]\n",
    "\n",
    "    t0 = time.perf_counter()\n",
    "\n",
    "    # Optional: ensure no stale work on the device\n",
    "    if torch.cuda.is_available():\n",
    "        torch.cuda.synchronize()\n",
    "\n",
    "    result = pipe(\n",
    "        prompt=base_p,\n",
    "        negative_prompt=base_n + ', text, extra limbs, watermark, multiple bodies, character sheet, concept sheet, turnaround, orthographic, reference sheet, multiple angles, extra head, extra limbs, dismembered parts, split view, multiple views, alternate poses, layout, blueprint, overlay, design board, draft, cutout, outline, diagram, showcase, dissection, duplicated face, extra body',\n",
    "        num_inference_steps=26,\n",
    "        guidance_scale=8.0,\n",
    "        height=832, width=832,\n",
    "    )\n",
    "\n",
    "    img = result.images[0]\n",
    "    img.save(os.path.join(out_folder, f\"{base_name}.png\"))\n",
    "\n",
    "    # ---- cleanup to avoid iteration-to-iteration slowdown ----\n",
    "    del img, result\n",
    "    gc.collect()\n",
    "    if torch.cuda.is_available():\n",
    "        torch.cuda.empty_cache()   # free unattached cached blocks\n",
    "        torch.cuda.synchronize()   # finalize GPU work before timing\n",
    "\n",
    "    t1 = time.perf_counter()\n",
    "    print(f\"{base_name} took {t1 - t0:.2f}s\")\n",
    "\n",
    "end_global = time.perf_counter()\n",
    "print(f\"Total: {end_global - start_global:.1f}s (avg {(end_global - start_global)/100:.2f}s/img)\")"
   ]
  },
  {
   "cell_type": "code",
   "execution_count": 8,
   "id": "fb81bcfa",
   "metadata": {},
   "outputs": [
    {
     "name": "stderr",
     "output_type": "stream",
     "text": [
      "Loading pipeline components...:   0%|          | 0/7 [00:00<?, ?it/s]`torch_dtype` is deprecated! Use `dtype` instead!\n",
      "Loading pipeline components...: 100%|██████████| 7/7 [00:05<00:00,  1.19it/s]\n"
     ]
    }
   ],
   "source": [
    "pipe = StableDiffusionXLPipeline.from_pretrained(\n",
    "    \"stabilityai/stable-diffusion-xl-base-1.0\",\n",
    "    torch_dtype=dtype,\n",
    "    use_safetensors=True\n",
    ").to(device)\n",
    "\n",
    "\n",
    "pipe.enable_attention_slicing()   # reduces peak VRAM (slightly slower but more stable)\n",
    "pipe.enable_vae_tiling()          # helpful if you go larger than 1024"
   ]
  },
  {
   "cell_type": "code",
   "execution_count": 9,
   "id": "30b3c543",
   "metadata": {},
   "outputs": [],
   "source": [
    "gc.collect()\n",
    "if torch.cuda.is_available():\n",
    "    torch.cuda.empty_cache()   # free unattached cached blocks\n",
    "    torch.cuda.synchronize()   # finalize GPU work before timing"
   ]
  },
  {
   "cell_type": "code",
   "execution_count": 13,
   "id": "2d315648",
   "metadata": {},
   "outputs": [
    {
     "name": "stderr",
     "output_type": "stream",
     "text": [
      "Token indices sequence length is longer than the specified maximum sequence length for this model (85 > 77). Running this sequence through the model will result in indexing errors\n",
      "The following part of your input was truncated because CLIP can only handle sequences up to 77 tokens: ['neutral background, subject isolated, studio backdrop']\n"
     ]
    },
    {
     "name": "stderr",
     "output_type": "stream",
     "text": [
      "d:\\dndemon_creation\\venv\\Lib\\site-packages\\transformers\\integrations\\sdpa_attention.py:96: UserWarning: 1Torch was not compiled with flash attention. (Triggered internally at C:\\actions-runner\\_work\\pytorch\\pytorch\\builder\\windows\\pytorch\\aten\\src\\ATen\\native\\transformers\\cuda\\sdp_utils.cpp:555.)\n",
      "  attn_output = torch.nn.functional.scaled_dot_product_attention(\n",
      "Token indices sequence length is longer than the specified maximum sequence length for this model (85 > 77). Running this sequence through the model will result in indexing errors\n",
      "The following part of your input was truncated because CLIP can only handle sequences up to 77 tokens: ['neutral background, subject isolated, studio backdrop']\n"
     ]
    },
    {
     "name": "stdout",
     "output_type": "stream",
     "text": [
      "MAKING 0 / 10\n",
      "MAKING Embermane\n"
     ]
    },
    {
     "name": "stderr",
     "output_type": "stream",
     "text": [
      "100%|██████████| 26/26 [00:07<00:00,  3.38it/s]\n",
      "The following part of your input was truncated because CLIP can only handle sequences up to 77 tokens: ['neutral background, subject isolated, studio backdrop']\n",
      "The following part of your input was truncated because CLIP can only handle sequences up to 77 tokens: ['neutral background, subject isolated, studio backdrop']\n"
     ]
    },
    {
     "name": "stdout",
     "output_type": "stream",
     "text": [
      "Pyrograth took 9.45s\n",
      "MAKING 1 / 10\n",
      "MAKING Thornveil\n"
     ]
    },
    {
     "name": "stderr",
     "output_type": "stream",
     "text": [
      "100%|██████████| 26/26 [00:07<00:00,  3.32it/s]\n",
      "The following part of your input was truncated because CLIP can only handle sequences up to 77 tokens: [', studio backdrop']\n",
      "The following part of your input was truncated because CLIP can only handle sequences up to 77 tokens: [', studio backdrop']\n"
     ]
    },
    {
     "name": "stdout",
     "output_type": "stream",
     "text": [
      "Sylvarch took 11.36s\n",
      "MAKING 2 / 10\n",
      "MAKING Mireling\n"
     ]
    },
    {
     "name": "stderr",
     "output_type": "stream",
     "text": [
      "100%|██████████| 26/26 [00:07<00:00,  3.61it/s]\n"
     ]
    },
    {
     "name": "stdout",
     "output_type": "stream",
     "text": [
      "Abythral took 10.97s\n",
      "MAKING 3 / 10\n",
      "MAKING Voltusk\n"
     ]
    },
    {
     "name": "stderr",
     "output_type": "stream",
     "text": [
      "100%|██████████| 26/26 [00:07<00:00,  3.54it/s]\n",
      "The following part of your input was truncated because CLIP can only handle sequences up to 77 tokens: ['plain neutral background, subject isolated, studio backdrop']\n",
      "The following part of your input was truncated because CLIP can only handle sequences up to 77 tokens: ['plain neutral background, subject isolated, studio backdrop']\n"
     ]
    },
    {
     "name": "stdout",
     "output_type": "stream",
     "text": [
      "Stormarok took 11.22s\n",
      "MAKING 4 / 10\n",
      "MAKING Frostbane\n"
     ]
    },
    {
     "name": "stderr",
     "output_type": "stream",
     "text": [
      "100%|██████████| 26/26 [00:07<00:00,  3.57it/s]\n",
      "The following part of your input was truncated because CLIP can only handle sequences up to 77 tokens: ['isolated, studio backdrop']\n",
      "The following part of your input was truncated because CLIP can only handle sequences up to 77 tokens: ['isolated, studio backdrop']\n"
     ]
    },
    {
     "name": "stdout",
     "output_type": "stream",
     "text": [
      "Cryovain took 10.69s\n",
      "MAKING 5 / 10\n",
      "MAKING Cindrel\n"
     ]
    },
    {
     "name": "stderr",
     "output_type": "stream",
     "text": [
      "100%|██████████| 26/26 [00:07<00:00,  3.62it/s]\n",
      "The following part of your input was truncated because CLIP can only handle sequences up to 77 tokens: ['isolated, studio backdrop']\n",
      "The following part of your input was truncated because CLIP can only handle sequences up to 77 tokens: ['isolated, studio backdrop']\n"
     ]
    },
    {
     "name": "stdout",
     "output_type": "stream",
     "text": [
      "Ashdrake took 10.50s\n",
      "MAKING 6 / 10\n",
      "MAKING Lumora\n"
     ]
    },
    {
     "name": "stderr",
     "output_type": "stream",
     "text": [
      "100%|██████████| 26/26 [00:06<00:00,  3.74it/s]\n",
      "The following part of your input was truncated because CLIP can only handle sequences up to 77 tokens: [', studio backdrop']\n",
      "The following part of your input was truncated because CLIP can only handle sequences up to 77 tokens: [', studio backdrop']\n"
     ]
    },
    {
     "name": "stdout",
     "output_type": "stream",
     "text": [
      "Seraphis took 9.50s\n",
      "MAKING 7 / 10\n",
      "MAKING Obsidim\n"
     ]
    },
    {
     "name": "stderr",
     "output_type": "stream",
     "text": [
      "100%|██████████| 26/26 [00:06<00:00,  3.76it/s]\n",
      "The following part of your input was truncated because CLIP can only handle sequences up to 77 tokens: ['full body, plain neutral background, subject isolated, studio backdrop']\n",
      "The following part of your input was truncated because CLIP can only handle sequences up to 77 tokens: ['full body, plain neutral background, subject isolated, studio backdrop']\n"
     ]
    },
    {
     "name": "stdout",
     "output_type": "stream",
     "text": [
      "Gravemorn took 9.32s\n",
      "MAKING 8 / 10\n",
      "MAKING Runeling\n"
     ]
    },
    {
     "name": "stderr",
     "output_type": "stream",
     "text": [
      "100%|██████████| 26/26 [00:06<00:00,  3.72it/s]\n",
      "The following part of your input was truncated because CLIP can only handle sequences up to 77 tokens: ['plain neutral background, subject isolated, studio backdrop']\n",
      "The following part of your input was truncated because CLIP can only handle sequences up to 77 tokens: ['plain neutral background, subject isolated, studio backdrop']\n"
     ]
    },
    {
     "name": "stdout",
     "output_type": "stream",
     "text": [
      "Arcanor took 9.45s\n",
      "MAKING 9 / 10\n",
      "MAKING Tempyr\n"
     ]
    },
    {
     "name": "stderr",
     "output_type": "stream",
     "text": [
      "100%|██████████| 26/26 [00:06<00:00,  3.72it/s]\n"
     ]
    },
    {
     "name": "stdout",
     "output_type": "stream",
     "text": [
      "Chronavon took 8.94s\n",
      "Total: 101.4s (avg 1.01s/img)\n"
     ]
    }
   ],
   "source": [
    "start_global = time.perf_counter()\n",
    "for i,pair in enumerate(pokemon_pairs):\n",
    "    print(f\"MAKING {i} / {len(pokemon_pairs)}\")\n",
    "    base_name = pair[\"base_name\"]\n",
    "    evolved_name = pair[\"evolved_name\"]\n",
    "    print(f\"MAKING {base_name}\")\n",
    "\n",
    "    \n",
    "\n",
    "    t0 = time.perf_counter()\n",
    "\n",
    "    # Optional: ensure no stale work on the device\n",
    "    if torch.cuda.is_available():\n",
    "        torch.cuda.synchronize()\n",
    "\n",
    "   \n",
    "    out_folder = os.path.join(output_dir, base_name)\n",
    "    init_img = Image.open(os.path.join(out_folder, f\"{base_name}.png\")).convert(\"RGB\")\n",
    "    evolved_p, evolved_n = make_single_subject(pair[\"evolved\"][\"prompt\"], pair[\"evolved\"][\"negative\"])\n",
    "\n",
    "    \n",
    "    result = pipe(\n",
    "        prompt=evolved_p,\n",
    "        evolved_n=evolved_n + ', text, extra limbs, watermark, multiple bodies, character sheet, concept sheet, turnaround, orthographic, reference sheet, multiple angles, extra head, extra limbs, dismembered parts, split view, multiple views, alternate poses, layout, blueprint, overlay, design board, draft, cutout, outline, diagram, showcase, dissection, duplicated face, extra body',\n",
    "        num_inference_steps=26,\n",
    "        stength = 0.9,\n",
    "        image=init_img,\n",
    "        guidance_scale=8.0,\n",
    "        height=832, width=832,\n",
    "    )\n",
    "\n",
    "    img = result.images[0]\n",
    "    img.save(os.path.join(out_folder, f\"{evolved_name}.png\"))\n",
    "\n",
    "    # ---- cleanup to avoid iteration-to-iteration slowdown ----\n",
    "    del img, result\n",
    "    gc.collect()\n",
    "    if torch.cuda.is_available():\n",
    "        torch.cuda.empty_cache()   # free unattached cached blocks\n",
    "        torch.cuda.synchronize()   # finalize GPU work before timing\n",
    "\n",
    "    t1 = time.perf_counter()\n",
    "    print(f\"{evolved_name} took {t1 - t0:.2f}s\")\n",
    "\n",
    "end_global = time.perf_counter()\n",
    "print(f\"Total: {end_global - start_global:.1f}s (avg {(end_global - start_global)/100:.2f}s/img)\")"
   ]
  },
  {
   "cell_type": "code",
   "execution_count": null,
   "id": "00a9e4b2",
   "metadata": {},
   "outputs": [],
   "source": []
  }
 ],
 "metadata": {
  "kernelspec": {
   "display_name": "venv",
   "language": "python",
   "name": "python3"
  },
  "language_info": {
   "codemirror_mode": {
    "name": "ipython",
    "version": 3
   },
   "file_extension": ".py",
   "mimetype": "text/x-python",
   "name": "python",
   "nbconvert_exporter": "python",
   "pygments_lexer": "ipython3",
   "version": "3.11.9"
  }
 },
 "nbformat": 4,
 "nbformat_minor": 5
}
